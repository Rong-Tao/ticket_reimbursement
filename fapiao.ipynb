{
 "cells": [
  {
   "cell_type": "code",
   "execution_count": 1,
   "metadata": {},
   "outputs": [
    {
     "name": "stdout",
     "output_type": "stream",
     "text": [
      "最接近的组合是:\n",
      "- 餐费   : [58.0, 65.0, 60.0]\n",
      "- 交通   : [101.3]\n",
      "- 共计   :  284.3 \n",
      "\n",
      "================ 抄写帮助 ================\n",
      "摘要      万   千   百   十   元   角   分\n",
      "餐费                1    8   3    0    0\n",
      "交通                1    0   1    3    0\n",
      "----------------------------------------\n",
      "总计   ¥            2    8   4    3    0\n",
      "======================================== \n",
      "\n",
      "金额合计（大写）            贰佰捌拾肆元叁角整\n"
     ]
    }
   ],
   "source": [
    "from fapiao_lib import *\n",
    "\n",
    "target = 300 \n",
    "\n",
    "dining_numbers = read_folder('餐费')\n",
    "transport_numbers = read_folder('交通费')\n",
    "\n",
    "all_numbers = dining_numbers + transport_numbers\n",
    "\n",
    "closest_combination = find_combinations(all_numbers, target)\n",
    "\n",
    "# Prepare the results\n",
    "dining_files = [f[1] for f in closest_combination if f in dining_numbers]\n",
    "transport_files = [f[1] for f in closest_combination if f in transport_numbers]\n",
    "\n",
    "# Calculate the total sums for dining and transport\n",
    "dining_sum = sum(f for f in dining_files)\n",
    "transport_sum = sum(f for f in transport_files)\n",
    "total_sum = dining_sum + transport_sum\n",
    "print(\"最接近的组合是:\")\n",
    "print(\"- 餐费   :\", dining_files)\n",
    "print(\"- 交通   :\", transport_files)\n",
    "print(\"- 共计   : \", total_sum, \"\\n\")\n",
    "print(\"=\"*16,\"抄写帮助\",\"=\"*16)\n",
    "print_money_table(dining_sum, transport_sum)\n",
    "print(\"=\"*40, \"\\n\")\n",
    "\n",
    "print(\"金额合计（大写）\",number_to_capitalized_cn(total_sum).rjust(20)) "
   ]
  },
  {
   "cell_type": "markdown",
   "metadata": {},
   "source": []
  }
 ],
 "metadata": {
  "kernelspec": {
   "display_name": "cv",
   "language": "python",
   "name": "python3"
  },
  "language_info": {
   "codemirror_mode": {
    "name": "ipython",
    "version": 3
   },
   "file_extension": ".py",
   "mimetype": "text/x-python",
   "name": "python",
   "nbconvert_exporter": "python",
   "pygments_lexer": "ipython3",
   "version": "3.11.4"
  }
 },
 "nbformat": 4,
 "nbformat_minor": 2
}
